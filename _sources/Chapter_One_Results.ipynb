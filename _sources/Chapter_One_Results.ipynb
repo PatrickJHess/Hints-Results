{
  "nbformat": 4,
  "nbformat_minor": 0,
  "metadata": {
    "colab": {
      "provenance": []
    },
    "kernelspec": {
      "name": "python3",
      "display_name": "Python 3"
    },
    "language_info": {
      "name": "python"
    }
  },
  "cells": [
    {
      "cell_type": "markdown",
      "source": [
        "<img src='https://docs.google.com/drawings/d/e/2PACX-1vTJWuNxIa2S81F0mpMNWGtSV7SczlZy26SI2p-9vlP617pvvdz9p4NkeoiKvUil-mNqLFPFB1vSeGWD/pub?w=960&h=720'>"
      ],
      "metadata": {
        "id": "pYTExUdVhjUr"
      }
    },
    {
      "cell_type": "markdown",
      "source": [
        "## ***Chapter One Expected Results***"
      ],
      "metadata": {
        "id": "kfPak5yXNMEq"
      }
    },
    {
      "cell_type": "markdown",
      "source": [
        "### ***Create A NumPy Array***\n",
        "\n",
        "1.   Create The Array From 0.03,0.05,0.07.\n",
        "2.   Use NumPy function exp to calculate future values in one period.\n",
        "3.   Create an array of present values by dividing 1.0 by the array of future values.\n"
      ],
      "metadata": {
        "id": "9lgLdi9EKg6N"
      }
    },
    {
      "cell_type": "code",
      "source": [
        "import numpy as np\n",
        "interest_rates=np.array([0.03,0.05,0.07])\n",
        "future_values=np.exp(interest_rates)\n",
        "present_values=1/future_values\n",
        "display(present_values)"
      ],
      "metadata": {
        "colab": {
          "base_uri": "https://localhost:8080/",
          "height": 34
        },
        "id": "HSx9Fy-CY37O",
        "outputId": "fad8a652-5503-4ca4-933b-907d6878053f"
      },
      "execution_count": null,
      "outputs": [
        {
          "output_type": "display_data",
          "data": {
            "text/plain": [
              "array([0.97044553, 0.95122942, 0.93239382])"
            ]
          },
          "metadata": {}
        }
      ]
    },
    {
      "cell_type": "markdown",
      "source": [
        "### ***Manipulate Two-Dimensional Array***\n",
        "\n",
        "Directly multiple the future value and present value arrays"
      ],
      "metadata": {
        "id": "SSXv3eRLL16M"
      }
    },
    {
      "cell_type": "code",
      "execution_count": null,
      "metadata": {
        "colab": {
          "base_uri": "https://localhost:8080/"
        },
        "id": "e483pYbDYHt_",
        "outputId": "c422d81e-cb08-413d-afdb-e41186c95323"
      },
      "outputs": [
        {
          "output_type": "execute_result",
          "data": {
            "text/plain": [
              "array([1., 1., 1.])"
            ]
          },
          "metadata": {},
          "execution_count": 3
        }
      ],
      "source": [
        "present_values*future_values"
      ]
    },
    {
      "cell_type": "markdown",
      "source": [
        "### ***Download data for September 2024 from the U.S. Treasury and display the values for September 12, 2024.***\n",
        "\n",
        "\n",
        "\n",
        "1.   Determine the url by changing the date from 202209 to 202409.\n",
        "2.   Use the Pandas method read_csv.\n",
        "3.   Make the date the index.\n",
        "4.   Use the loc attribute to display September 12$^{th}$ 2024 data.\n",
        "\n",
        "\n",
        "\n",
        "\n"
      ],
      "metadata": {
        "id": "rVU_xJ9sqsDv"
      }
    },
    {
      "cell_type": "code",
      "source": [
        "import pandas as pd\n",
        "url='https://home.treasury.gov/resource-center/data-chart-center/\\\n",
        "interest-rates/daily-treasury-rates.csv/all/202409?\\\n",
        "type=daily_treasury_bill_rates&field_tdr_date_value_month=202209&page&_format=csv'\n",
        "Tbill_data_site = pd.read_csv(url,index_col='Date')\n",
        "display(Tbill_data_site.loc['09/12/2024'])"
      ],
      "metadata": {
        "colab": {
          "base_uri": "https://localhost:8080/",
          "height": 460
        },
        "id": "-xGbLdz1a21q",
        "outputId": "2cac6437-b38b-4f21-8684-6e6a54420fc4"
      },
      "execution_count": null,
      "outputs": [
        {
          "output_type": "display_data",
          "data": {
            "text/plain": [
              "4 WEEKS BANK DISCOUNT         4.97\n",
              "4 WEEKS COUPON EQUIVALENT     5.06\n",
              "8 WEEKS BANK DISCOUNT         4.98\n",
              "8 WEEKS COUPON EQUIVALENT     5.09\n",
              "13 WEEKS BANK DISCOUNT        4.85\n",
              "13 WEEKS COUPON EQUIVALENT    4.98\n",
              "17 WEEKS BANK DISCOUNT        4.74\n",
              "17 WEEKS COUPON EQUIVALENT    4.88\n",
              "26 WEEKS BANK DISCOUNT        4.54\n",
              "26 WEEKS COUPON EQUIVALENT    4.71\n",
              "52 WEEKS BANK DISCOUNT        3.93\n",
              "52 WEEKS COUPON EQUIVALENT    4.10\n",
              "Name: 09/12/2024, dtype: float64"
            ],
            "text/html": [
              "<div>\n",
              "<style scoped>\n",
              "    .dataframe tbody tr th:only-of-type {\n",
              "        vertical-align: middle;\n",
              "    }\n",
              "\n",
              "    .dataframe tbody tr th {\n",
              "        vertical-align: top;\n",
              "    }\n",
              "\n",
              "    .dataframe thead th {\n",
              "        text-align: right;\n",
              "    }\n",
              "</style>\n",
              "<table border=\"1\" class=\"dataframe\">\n",
              "  <thead>\n",
              "    <tr style=\"text-align: right;\">\n",
              "      <th></th>\n",
              "      <th>09/12/2024</th>\n",
              "    </tr>\n",
              "  </thead>\n",
              "  <tbody>\n",
              "    <tr>\n",
              "      <th>4 WEEKS BANK DISCOUNT</th>\n",
              "      <td>4.97</td>\n",
              "    </tr>\n",
              "    <tr>\n",
              "      <th>4 WEEKS COUPON EQUIVALENT</th>\n",
              "      <td>5.06</td>\n",
              "    </tr>\n",
              "    <tr>\n",
              "      <th>8 WEEKS BANK DISCOUNT</th>\n",
              "      <td>4.98</td>\n",
              "    </tr>\n",
              "    <tr>\n",
              "      <th>8 WEEKS COUPON EQUIVALENT</th>\n",
              "      <td>5.09</td>\n",
              "    </tr>\n",
              "    <tr>\n",
              "      <th>13 WEEKS BANK DISCOUNT</th>\n",
              "      <td>4.85</td>\n",
              "    </tr>\n",
              "    <tr>\n",
              "      <th>13 WEEKS COUPON EQUIVALENT</th>\n",
              "      <td>4.98</td>\n",
              "    </tr>\n",
              "    <tr>\n",
              "      <th>17 WEEKS BANK DISCOUNT</th>\n",
              "      <td>4.74</td>\n",
              "    </tr>\n",
              "    <tr>\n",
              "      <th>17 WEEKS COUPON EQUIVALENT</th>\n",
              "      <td>4.88</td>\n",
              "    </tr>\n",
              "    <tr>\n",
              "      <th>26 WEEKS BANK DISCOUNT</th>\n",
              "      <td>4.54</td>\n",
              "    </tr>\n",
              "    <tr>\n",
              "      <th>26 WEEKS COUPON EQUIVALENT</th>\n",
              "      <td>4.71</td>\n",
              "    </tr>\n",
              "    <tr>\n",
              "      <th>52 WEEKS BANK DISCOUNT</th>\n",
              "      <td>3.93</td>\n",
              "    </tr>\n",
              "    <tr>\n",
              "      <th>52 WEEKS COUPON EQUIVALENT</th>\n",
              "      <td>4.10</td>\n",
              "    </tr>\n",
              "  </tbody>\n",
              "</table>\n",
              "</div><br><label><b>dtype:</b> float64</label>"
            ]
          },
          "metadata": {}
        }
      ]
    },
    {
      "cell_type": "markdown",
      "source": [
        "### ***Chapter One Exercise***\n",
        "\n",
        "\n",
        "1.   Download the module and import one_y_axis.\n",
        "2.   Remove Columns Not Including BANK From Tbill DataFrame\n",
        "3.   Convert the DataFrame to NumPy array.\n",
        "4.   Use bank discount to calculate zero prices(include the 17 week maturity).\n",
        "5.   Calculate spot and forward rates and plot with one_y_axis.\n",
        "\n",
        "\n",
        "\n",
        "\n",
        "\n"
      ],
      "metadata": {
        "id": "0YqCC6exNukj"
      }
    },
    {
      "cell_type": "code",
      "source": [
        "import os\n",
        "import sys\n",
        "import requests\n",
        "from types import ModuleType"
      ],
      "metadata": {
        "id": "Yms2bp9ycEAc"
      },
      "execution_count": null,
      "outputs": []
    },
    {
      "cell_type": "code",
      "execution_count": null,
      "metadata": {
        "id": "JbZJcCzh2w7r"
      },
      "outputs": [],
      "source": [
        "# Define the URL of the Python module to be downloaded from Dropbox.\n",
        "# The 'dl=1' parameter in the URL forces a direct download of the file content.\n",
        "url= 'https://www.dropbox.com/scl/fi/4y5hjxlfphh1ngvbgo77q/\\\n",
        "module_-basic_concepts_fixed_income.py?rlkey=6oxi7mgka42veaat79hcv8boz&st=stuou11h&dl=1'\n",
        "module_name='basic_concepts_fixed_income'\n",
        "# Send an HTTP GET request to the URL and store the server's response.\n",
        "try:\n",
        "  response=requests.get(url)\n",
        "  # Raise an exception for bad status codes (like 404 Not Found)\n",
        "  response.raise_for_status()\n",
        "  module= ModuleType(module_name)\n",
        "  #Code contained in response.text executed\n",
        "  exec(response.text, module.__dict__)\n",
        "  # Module added to sys\n",
        "  sys.modules[module_name]=module\n",
        "except requests.exceptions.RequestException as e:\n",
        "    print(f\"❌ Error: Could not fetch module from URL. {e}\")\n",
        "except Exception as e:\n",
        "    print(f\"❌ Error: Failed to execute or import the module. {e}\")\n",
        "# Open the local file in \"write binary\" ('wb') mode and save the downloaded content.\n",
        "# Using a 'with' statement ensures the file is properly closed after writing.\n",
        "\n",
        "# Now that 'basic_concepts_fixed_income' exists in the notebook, import the specific functions\n",
        "from basic_concepts_fixed_income import(one_y_axis)"
      ]
    },
    {
      "cell_type": "code",
      "source": [
        "desired_columns = [column for column in Tbill_data_site.columns if 'BANK' in column]\n",
        "df_bankers_discount = Tbill_data_site[desired_columns]"
      ],
      "metadata": {
        "id": "QzRsNwHXcvGI"
      },
      "execution_count": null,
      "outputs": []
    },
    {
      "cell_type": "code",
      "source": [
        "bankers_discount=df_bankers_discount.to_numpy()"
      ],
      "metadata": {
        "id": "QHkQjdDvc_zg"
      },
      "execution_count": null,
      "outputs": []
    },
    {
      "cell_type": "code",
      "source": [
        "maturity_days=np.array([4*7,8*7,13*7,17*7,26*7,52*7])\n",
        "zero_prices_one=(100-bankers_discount*maturity_days/360)/100"
      ],
      "metadata": {
        "id": "Z8PplwOEdPGg"
      },
      "execution_count": null,
      "outputs": []
    },
    {
      "cell_type": "code",
      "source": [
        "spot_rates=-np.log(zero_prices_one)/(maturity_days/365)"
      ],
      "metadata": {
        "id": "KdqZFyLdd-sL"
      },
      "execution_count": null,
      "outputs": []
    },
    {
      "cell_type": "code",
      "source": [
        "forward_rates=-np.diff(np.log(zero_prices_one))*365/np.diff(maturity_days)\n",
        "forward_rates=np.insert(forward_rates,0,np.nan,axis=1)"
      ],
      "metadata": {
        "id": "MOue5JkMeJoM"
      },
      "execution_count": null,
      "outputs": []
    },
    {
      "cell_type": "code",
      "source": [
        "save_config={}\n",
        "xaxis = ['One', 'Two', 'Three','Four', 'Six', 'Twelve']\n",
        "string_date = '09/12/2024'\n",
        "loc = Tbill_data_site.index.get_indexer([string_date])[0]\n",
        "data = [spot_rates[loc]*100, forward_rates[loc]*100]\n",
        "title = 'Exercise Some Basic Concepts And Term Structure Of Interest Rates'\n",
        "series = ['Spot Rate', 'Forward Rate']\n",
        "ylabel = 'Continuous Compounded Annualized % Rates'\n",
        "xlabel = 'Maturity In Months'\n",
        "x = len(data)\n",
        "markers = ['<','>']*round(x/2+x%2+0.001)\n",
        "lower = 0\n",
        "upper = max(np.nanmax(data[0]), np.nanmax(data[1])) + 0.5\n",
        "ylim = [lower, upper]\n",
        "size = (10, 6)\n",
        "colors=['r','b']\n",
        "one_y_axis(xaxis, data, title, series, xlabel, ylabel, markers, size, ylim,\n",
        "           save_config=save_config,colors=colors)"
      ],
      "metadata": {
        "colab": {
          "base_uri": "https://localhost:8080/",
          "height": 610
        },
        "outputId": "f10c9955-e5cf-434d-c719-679d6df31b87",
        "id": "i0QMyzi6rRv8"
      },
      "execution_count": null,
      "outputs": [
        {
          "output_type": "display_data",
          "data": {
            "text/plain": [
              "<Figure size 1000x600 with 1 Axes>"
            ],
            "image/png": "[encoded data removed]"
          },
          "metadata": {}
        }
      ]
    }
  ]
}