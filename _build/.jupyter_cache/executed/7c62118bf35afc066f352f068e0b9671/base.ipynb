{
 "cells": [
  {
   "cell_type": "code",
   "execution_count": 1,
   "metadata": {
    "colab": {
     "base_uri": "https://localhost:8080/",
     "height": 34
    },
    "id": "HSx9Fy-CY37O",
    "outputId": "c0e92d95-2b48-42e3-d27d-b70f96808352"
   },
   "outputs": [
    {
     "data": {
      "text/plain": [
       "array([0.97044553, 0.95122942, 0.93239382])"
      ]
     },
     "metadata": {},
     "output_type": "display_data"
    }
   ],
   "source": [
    "import numpy as np\n",
    "interest_rates=np.array([0.03,0.05,0.07])\n",
    "future_values=np.exp(interest_rates)\n",
    "present_values=1/future_values\n",
    "display(present_values)"
   ]
  },
  {
   "cell_type": "code",
   "execution_count": 2,
   "metadata": {
    "colab": {
     "base_uri": "https://localhost:8080/"
    },
    "id": "e483pYbDYHt_",
    "outputId": "0e468bd9-a83b-4d64-83a7-035343772058"
   },
   "outputs": [
    {
     "data": {
      "text/plain": [
       "array([1., 1., 1.])"
      ]
     },
     "execution_count": 2,
     "metadata": {},
     "output_type": "execute_result"
    }
   ],
   "source": [
    "present_values*future_values"
   ]
  },
  {
   "cell_type": "code",
   "execution_count": 3,
   "metadata": {
    "colab": {
     "base_uri": "https://localhost:8080/",
     "height": 143
    },
    "id": "rhs4dPbZBewm",
    "outputId": "503790db-4b20-4809-91ce-5c6aa87735e8"
   },
   "outputs": [
    {
     "data": {
      "text/html": [
       "<div>\n",
       "<style scoped>\n",
       "    .dataframe tbody tr th:only-of-type {\n",
       "        vertical-align: middle;\n",
       "    }\n",
       "\n",
       "    .dataframe tbody tr th {\n",
       "        vertical-align: top;\n",
       "    }\n",
       "\n",
       "    .dataframe thead th {\n",
       "        text-align: right;\n",
       "    }\n",
       "</style>\n",
       "<table border=\"1\" class=\"dataframe\">\n",
       "  <thead>\n",
       "    <tr style=\"text-align: right;\">\n",
       "      <th></th>\n",
       "      <th>0</th>\n",
       "      <th>1</th>\n",
       "      <th>2</th>\n",
       "    </tr>\n",
       "  </thead>\n",
       "  <tbody>\n",
       "    <tr>\n",
       "      <th>0</th>\n",
       "      <td>0.030000</td>\n",
       "      <td>0.050000</td>\n",
       "      <td>0.070000</td>\n",
       "    </tr>\n",
       "    <tr>\n",
       "      <th>1</th>\n",
       "      <td>1.030455</td>\n",
       "      <td>1.051271</td>\n",
       "      <td>1.072508</td>\n",
       "    </tr>\n",
       "    <tr>\n",
       "      <th>2</th>\n",
       "      <td>0.970446</td>\n",
       "      <td>0.951229</td>\n",
       "      <td>0.932394</td>\n",
       "    </tr>\n",
       "  </tbody>\n",
       "</table>\n",
       "</div>"
      ],
      "text/plain": [
       "          0         1         2\n",
       "0  0.030000  0.050000  0.070000\n",
       "1  1.030455  1.051271  1.072508\n",
       "2  0.970446  0.951229  0.932394"
      ]
     },
     "metadata": {},
     "output_type": "display_data"
    }
   ],
   "source": [
    "# Dataframe created with DataFrame() method\n",
    "import pandas as pd\n",
    "simple_example=pd.DataFrame([interest_rates,\n",
    "              future_values,\n",
    "              present_values])\n",
    "display(simple_example)"
   ]
  },
  {
   "cell_type": "code",
   "execution_count": 4,
   "metadata": {
    "colab": {
     "base_uri": "https://localhost:8080/",
     "height": 460
    },
    "id": "-xGbLdz1a21q",
    "outputId": "2cac6437-b38b-4f21-8684-6e6a54420fc4"
   },
   "outputs": [
    {
     "data": {
      "text/plain": [
       "4 WEEKS BANK DISCOUNT         4.97\n",
       "4 WEEKS COUPON EQUIVALENT     5.06\n",
       "8 WEEKS BANK DISCOUNT         4.98\n",
       "8 WEEKS COUPON EQUIVALENT     5.09\n",
       "13 WEEKS BANK DISCOUNT        4.85\n",
       "13 WEEKS COUPON EQUIVALENT    4.98\n",
       "17 WEEKS BANK DISCOUNT        4.74\n",
       "17 WEEKS COUPON EQUIVALENT    4.88\n",
       "26 WEEKS BANK DISCOUNT        4.54\n",
       "26 WEEKS COUPON EQUIVALENT    4.71\n",
       "52 WEEKS BANK DISCOUNT        3.93\n",
       "52 WEEKS COUPON EQUIVALENT    4.10\n",
       "Name: 09/12/2024, dtype: float64"
      ]
     },
     "metadata": {},
     "output_type": "display_data"
    }
   ],
   "source": [
    "import pandas as pd\n",
    "url='https://home.treasury.gov/resource-center/data-chart-center/\\\n",
    "interest-rates/daily-treasury-rates.csv/all/202409?\\\n",
    "type=daily_treasury_bill_rates&field_tdr_date_value_month=202209&page&_format=csv'\n",
    "Tbill_data_site = pd.read_csv(url,index_col='Date')\n",
    "display(Tbill_data_site.loc['09/12/2024'])"
   ]
  },
  {
   "cell_type": "code",
   "execution_count": 5,
   "metadata": {
    "id": "Yms2bp9ycEAc"
   },
   "outputs": [],
   "source": [
    "import os\n",
    "import sys\n",
    "import requests\n",
    "from types import ModuleType"
   ]
  },
  {
   "cell_type": "code",
   "execution_count": 6,
   "metadata": {
    "id": "JbZJcCzh2w7r"
   },
   "outputs": [],
   "source": [
    "# Define the URL of the Python module to be downloaded from Dropbox.\n",
    "# The 'dl=1' parameter in the URL forces a direct download of the file content.\n",
    "url= 'https://www.dropbox.com/scl/fi/4y5hjxlfphh1ngvbgo77q/\\\n",
    "module_-basic_concepts_fixed_income.py?rlkey=6oxi7mgka42veaat79hcv8boz&st=stuou11h&dl=1'\n",
    "module_name='basic_concepts_fixed_income'\n",
    "# Send an HTTP GET request to the URL and store the server's response.\n",
    "try:\n",
    "  response=requests.get(url)\n",
    "  # Raise an exception for bad status codes (like 404 Not Found)\n",
    "  response.raise_for_status()\n",
    "  module= ModuleType(module_name)\n",
    "  #Code contained in response.text executed\n",
    "  exec(response.text, module.__dict__)\n",
    "  # Module added to sys\n",
    "  sys.modules[module_name]=module\n",
    "except requests.exceptions.RequestException as e:\n",
    "    print(f\"❌ Error: Could not fetch module from URL. {e}\")\n",
    "except Exception as e:\n",
    "    print(f\"❌ Error: Failed to execute or import the module. {e}\")\n",
    "# Open the local file in \"write binary\" ('wb') mode and save the downloaded content.\n",
    "# Using a 'with' statement ensures the file is properly closed after writing.\n",
    "\n",
    "# Now that 'basic_concepts_fixed_income' exists in the notebook, import the specific functions\n",
    "from basic_concepts_fixed_income import(one_y_axis)"
   ]
  },
  {
   "cell_type": "code",
   "execution_count": 7,
   "metadata": {
    "id": "QzRsNwHXcvGI"
   },
   "outputs": [],
   "source": [
    "desired_columns = [column for column in Tbill_data_site.columns if 'BANK' in column]\n",
    "df_bankers_discount = Tbill_data_site[desired_columns]"
   ]
  },
  {
   "cell_type": "code",
   "execution_count": 8,
   "metadata": {
    "id": "QHkQjdDvc_zg"
   },
   "outputs": [],
   "source": [
    "bankers_discount=df_bankers_discount.to_numpy()"
   ]
  },
  {
   "cell_type": "code",
   "execution_count": 9,
   "metadata": {
    "id": "Z8PplwOEdPGg"
   },
   "outputs": [],
   "source": [
    "maturity_days=np.array([4*7,8*7,13*7,17*7,26*7,52*7])\n",
    "zero_prices_one=(100-bankers_discount*maturity_days/360)/100"
   ]
  },
  {
   "cell_type": "code",
   "execution_count": 10,
   "metadata": {
    "id": "KdqZFyLdd-sL"
   },
   "outputs": [],
   "source": [
    "spot_rates=-np.log(zero_prices_one)/(maturity_days/365)"
   ]
  },
  {
   "cell_type": "code",
   "execution_count": 11,
   "metadata": {
    "id": "MOue5JkMeJoM"
   },
   "outputs": [],
   "source": [
    "forward_rates=-np.diff(np.log(zero_prices_one))*365/np.diff(maturity_days)\n",
    "forward_rates=np.insert(forward_rates,0,np.nan,axis=1)"
   ]
  },
  {
   "cell_type": "code",
   "execution_count": 12,
   "metadata": {
    "colab": {
     "base_uri": "https://localhost:8080/",
     "height": 610
    },
    "id": "i0QMyzi6rRv8",
    "outputId": "f10c9955-e5cf-434d-c719-679d6df31b87"
   },
   "outputs": [
    {
     "data": {
      "image/png": "[encoded data removed]",
      "text/plain": [
       "<Figure size 720x432 with 1 Axes>"
      ]
     },
     "metadata": {
      "needs_background": "light"
     },
     "output_type": "display_data"
    }
   ],
   "source": [
    "save_config={}\n",
    "xaxis = ['One', 'Two', 'Three','Four', 'Six', 'Twelve']\n",
    "string_date = '09/12/2024'\n",
    "loc = Tbill_data_site.index.get_indexer([string_date])[0]\n",
    "data = [spot_rates[loc]*100, forward_rates[loc]*100]\n",
    "title = 'Exercise Some Basic Concepts And Term Structure Of Interest Rates'\n",
    "series = ['Spot Rate', 'Forward Rate']\n",
    "ylabel = 'Continuous Compounded Annualized % Rates'\n",
    "xlabel = 'Maturity In Months'\n",
    "x = len(data)\n",
    "markers = ['<','>']*round(x/2+x%2+0.001)\n",
    "lower = 0\n",
    "upper = max(np.nanmax(data[0]), np.nanmax(data[1])) + 0.5\n",
    "ylim = [lower, upper]\n",
    "size = (10, 6)\n",
    "colors=['r','b']\n",
    "one_y_axis(xaxis, data, title, series, xlabel, ylabel, markers, size, ylim,\n",
    "           save_config=save_config,colors=colors)"
   ]
  }
 ],
 "metadata": {
  "colab": {
   "provenance": []
  },
  "kernelspec": {
   "display_name": "Python 3",
   "name": "python3"
  },
  "language_info": {
   "codemirror_mode": {
    "name": "ipython",
    "version": 3
   },
   "file_extension": ".py",
   "mimetype": "text/x-python",
   "name": "python",
   "nbconvert_exporter": "python",
   "pygments_lexer": "ipython3",
   "version": "3.9.7"
  }
 },
 "nbformat": 4,
 "nbformat_minor": 0
}