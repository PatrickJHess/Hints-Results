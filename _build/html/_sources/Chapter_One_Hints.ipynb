{
  "nbformat": 4,
  "nbformat_minor": 0,
  "metadata": {
    "colab": {
      "provenance": []
    },
    "kernelspec": {
      "name": "python3",
      "display_name": "Python 3"
    },
    "language_info": {
      "name": "python"
    }
  },
  "cells": [
    {
      "cell_type": "markdown",
      "source": [
        "<img src='https://docs.google.com/drawings/d/e/2PACX-1vR2ZJszPXQ2YGalxENJ5eZWYjcgfYFD7Xkb6mXekW6udYTtzom2s9Sqi0yHYpI0QNh3-2KymAPyXr-v/pub?w=960&h=720'>"
      ],
      "metadata": {
        "id": "qX41YGWcgwY9"
      }
    },
    {
      "cell_type": "markdown",
      "source": [
        "## ***Chapter One Hints***"
      ],
      "metadata": {
        "id": "kfPak5yXNMEq"
      }
    },
    {
      "cell_type": "markdown",
      "source": [
        "### ***Create A NumPy Array***\n",
        "\n",
        "1.   Create The Array From 0.03,0.05,0.07.\n",
        "2.   Use NumPy function exp to calculate future values in one period.\n",
        "3.   Create an array of present values by dividing 1.0 by the array of future values.\n"
      ],
      "metadata": {
        "id": "9lgLdi9EKg6N"
      }
    },
    {
      "cell_type": "markdown",
      "source": [
        "### ***Manipulate Two-Dimensional Array***\n",
        "\n",
        "Directly multiple the future value and present value arrays"
      ],
      "metadata": {
        "id": "SSXv3eRLL16M"
      }
    },
    {
      "cell_type": "markdown",
      "source": [
        "### ***Create A DataFrame From A Two-Dimensional Array***\n",
        "\n",
        "\n",
        "1.   Create the two-dimensional array pv_rates from the arrays of rates, future values, and present values.\n",
        "2.   Use the Pandas method DataFrame() with single argment of pv_rates.\n",
        "\n"
      ],
      "metadata": {
        "id": "FUHrl0wuT8dk"
      }
    },
    {
      "cell_type": "markdown",
      "source": [
        "### ***Download data for September 2024 from the U.S. Treasury and display the values for September 12, 2024.***\n",
        "\n",
        "\n",
        "\n",
        "1.   Determine the url by changing the date from 202509 to 202409.\n",
        "2.   Use the Pandas method read_csv.\n",
        "3.   Make the date the index.\n",
        "4.   Use the loc attribute to display September 12$^{th}$ 2024 data.\n",
        "\n",
        "\n",
        "\n",
        "\n"
      ],
      "metadata": {
        "id": "rVU_xJ9sqsDv"
      }
    },
    {
      "cell_type": "markdown",
      "source": [
        "### ***Chapter One Exercise***\n",
        "\n",
        "\n",
        "1.   Download the module and import one_y_axis.\n",
        "2.   Remove Columns Not Including BANK From Tbill DataFrame\n",
        "3.   Convert the DataFrame to NumPy array.\n",
        "4.   Use bank discount to calculate zero prices(include the 17 week maturity).\n",
        "5.   Calculate spot and forward rates and plot with one_y_axis.\n",
        "\n",
        "\n",
        "\n",
        "\n",
        "\n"
      ],
      "metadata": {
        "id": "0YqCC6exNukj"
      }
    }
  ]
}