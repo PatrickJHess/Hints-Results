{
 "cells": [
  {
   "cell_type": "markdown",
   "metadata": {
    "id": "qX41YGWcgwY9"
   },
   "source": [
    "<img src='https://docs.google.com/drawings/d/e/2PACX-1vR2ZJszPXQ2YGalxENJ5eZWYjcgfYFD7Xkb6mXekW6udYTtzom2s9Sqi0yHYpI0QNh3-2KymAPyXr-v/pub?w=960&h=720'>"
   ]
  },
  {
   "cell_type": "markdown",
   "metadata": {
    "id": "kfPak5yXNMEq"
   },
   "source": [
    "## ***Chapter One Hints***"
   ]
  },
  {
   "cell_type": "markdown",
   "metadata": {
    "id": "9lgLdi9EKg6N"
   },
   "source": [
    "### ***Create A NumPy Array***\n",
    "\n",
    "1.   Create The Array From 0.03,0.05,0.07.\n",
    "2.   Use NumPy function exp to calculate future values in one period.\n",
    "3.   Create an array of present values by dividing 1.0 by the array of future values.\n"
   ]
  },
  {
   "cell_type": "markdown",
   "metadata": {
    "id": "SSXv3eRLL16M"
   },
   "source": [
    "### ***Manipulate Two-Dimensional Array***\n",
    "\n",
    "Directly multiple the future value and present value arrays"
   ]
  },
  {
   "cell_type": "markdown",
   "metadata": {
    "id": "FUHrl0wuT8dk"
   },
   "source": [
    "### ***Create A DataFrame From A Two-Dimensional Array***\n",
    "\n",
    "\n",
    "1.   Create the two-dimensional array pv_rates from the arrays of rates, future values, and present values.\n",
    "2.   Use the Pandas method DataFrame() with single argment of pv_rates.\n",
    "\n"
   ]
  },
  {
   "cell_type": "markdown",
   "metadata": {
    "id": "rVU_xJ9sqsDv"
   },
   "source": [
    "### ***Download data for September 2024 from the U.S. Treasury and display the values for September 12, 2024.***\n",
    "\n",
    "\n",
    "\n",
    "1.   Determine the url by changing the date from 202209 to 202409.\n",
    "2.   Use the Pandas method read_csv.\n",
    "3.   Make the date the index.\n",
    "4.   Use the loc attribute to display September 12$^{th}$ 2024 data.\n",
    "\n",
    "\n",
    "\n",
    "\n"
   ]
  },
  {
   "cell_type": "markdown",
   "metadata": {
    "id": "0YqCC6exNukj"
   },
   "source": [
    "### ***Chapter One Exercise***\n",
    "\n",
    "\n",
    "1.   Download the module and import one_y_axis.\n",
    "2.   Remove Columns Not Including BANK From Tbill DataFrame\n",
    "3.   Convert the DataFrame to NumPy array.\n",
    "4.   Use bank discount to calculate zero prices(include the 17 week maturity).\n",
    "5.   Calculate spot and forward rates and plot with one_y_axis.\n",
    "\n",
    "\n",
    "\n",
    "\n",
    "\n"
   ]
  }
 ],
 "metadata": {
  "colab": {
   "provenance": []
  },
  "kernelspec": {
   "display_name": "Python 3",
   "name": "python3"
  },
  "language_info": {
   "name": "python"
  }
 },
 "nbformat": 4,
 "nbformat_minor": 0
}